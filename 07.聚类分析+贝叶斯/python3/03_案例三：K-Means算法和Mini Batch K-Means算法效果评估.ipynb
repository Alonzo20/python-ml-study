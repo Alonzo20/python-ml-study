{
 "cells": [
  {
   "cell_type": "code",
   "execution_count": 1,
   "metadata": {},
   "outputs": [],
   "source": [
    "import time\n",
    "import numpy as np\n",
    "import matplotlib.pyplot as plt\n",
    "import matplotlib as mpl\n",
    "from sklearn.cluster import MiniBatchKMeans, KMeans\n",
    "from sklearn import metrics\n",
    "from sklearn.metrics import pairwise_distances_argmin\n",
    "from sklearn.datasets.samples_generator import make_blobs"
   ]
  },
  {
   "cell_type": "code",
   "execution_count": 2,
   "metadata": {},
   "outputs": [],
   "source": [
    "mpl.rcParams['font.sans-serif'] = [u'SimHei']\n",
    "mpl.rcParams['axes.unicode_minus'] = False"
   ]
  },
  {
   "cell_type": "code",
   "execution_count": 3,
   "metadata": {},
   "outputs": [],
   "source": [
    "centers = [[1,1],[-1,-1],[1,-1]]\n",
    "clusters = len(centers)\n",
    "\n",
    "X, Y = make_blobs(n_samples=3000, centers=centers, cluster_std=0.7, random_state=28)"
   ]
  },
  {
   "cell_type": "code",
   "execution_count": 4,
   "metadata": {},
   "outputs": [
    {
     "name": "stdout",
     "output_type": "stream",
     "text": [
      "K-Means算法模型训练消耗时间:0.0878s\n"
     ]
    }
   ],
   "source": [
    "k_means = KMeans(init='k-means++', n_clusters=clusters, random_state=28)\n",
    "t0 = time.time() # 当前时间\n",
    "k_means.fit(X)\n",
    "km_batch = time.time() - t0\n",
    "print(\"K-Means算法模型训练消耗时间:%.4fs\" % km_batch)"
   ]
  },
  {
   "cell_type": "code",
   "execution_count": 5,
   "metadata": {},
   "outputs": [
    {
     "name": "stdout",
     "output_type": "stream",
     "text": [
      "Mini Batch K-Means算法模型训练消耗时间:0.0250s\n"
     ]
    }
   ],
   "source": [
    "batch_size = 100\n",
    "mbk = MiniBatchKMeans(init='k-means++', n_clusters=clusters, batch_size=batch_size, random_state=28)\n",
    "t0 = time.time()\n",
    "mbk.fit(X)\n",
    "mbk_batch = time.time() - t0\n",
    "print(\"Mini Batch K-Means算法模型训练消耗时间:%.4fs\" % mbk_batch)"
   ]
  },
  {
   "cell_type": "code",
   "execution_count": 6,
   "metadata": {},
   "outputs": [],
   "source": [
    "km_y_hat = k_means.labels_\n",
    "mbkm_y_hat = mbk.labels_"
   ]
  },
  {
   "cell_type": "code",
   "execution_count": 7,
   "metadata": {},
   "outputs": [
    {
     "name": "stdout",
     "output_type": "stream",
     "text": [
      "K-Means算法聚类中心点:\n",
      "center= [[-1.0600799  -1.05662982]\n",
      " [ 1.02975208 -1.07435837]\n",
      " [ 1.01491055  1.02216649]]\n",
      "Mini Batch K-Means算法聚类中心点:\n",
      "center= [[ 0.99602094  1.10688195]\n",
      " [-1.00828286 -1.05983915]\n",
      " [ 1.07892315 -0.94286826]]\n"
     ]
    }
   ],
   "source": [
    "k_means_cluster_centers = k_means.cluster_centers_\n",
    "mbk_means_cluster_centers = mbk.cluster_centers_\n",
    "print(\"K-Means算法聚类中心点:\\ncenter=\", k_means_cluster_centers)\n",
    "print(\"Mini Batch K-Means算法聚类中心点:\\ncenter=\", mbk_means_cluster_centers)\n",
    "\n",
    "order = pairwise_distances_argmin(k_means_cluster_centers, mbk_means_cluster_centers)"
   ]
  },
  {
   "cell_type": "code",
   "execution_count": 11,
   "metadata": {},
   "outputs": [
    {
     "name": "stdout",
     "output_type": "stream",
     "text": [
      "K-Means算法:adjusted_rand_score评估函数计算结果值:0.72526；计算消耗时间:0.001s\n",
      "Mini Batch K-Means算法:adjusted_rand_score评估函数计算结果值:0.72421；计算消耗时间:0.001s\n",
      "\n",
      "K-Means算法:v_measure_score评估函数计算结果值:0.65754；计算消耗时间:0.050s\n",
      "Mini Batch K-Means算法:v_measure_score评估函数计算结果值:0.65780；计算消耗时间:0.001s\n",
      "\n",
      "K-Means算法:adjusted_mutual_info_score评估函数计算结果值:0.65726；计算消耗时间:0.176s\n",
      "Mini Batch K-Means算法:adjusted_mutual_info_score评估函数计算结果值:0.65757；计算消耗时间:0.003s\n",
      "\n",
      "K-Means算法:mutual_info_score评估函数计算结果值:0.72231；计算消耗时间:0.001s\n",
      "Mini Batch K-Means算法:mutual_info_score评估函数计算结果值:0.72264；计算消耗时间:0.001s\n",
      "\n"
     ]
    },
    {
     "name": "stderr",
     "output_type": "stream",
     "text": [
      "D:\\ProgramData\\Anaconda3\\lib\\site-packages\\sklearn\\metrics\\cluster\\supervised.py:732: FutureWarning: The behavior of AMI will change in version 0.22. To match the behavior of 'v_measure_score', AMI will use average_method='arithmetic' by default.\n",
      "  FutureWarning)\n"
     ]
    }
   ],
   "source": [
    "score_funcs = [\n",
    "    metrics.adjusted_rand_score,\n",
    "    metrics.v_measure_score,\n",
    "    metrics.adjusted_mutual_info_score,\n",
    "    metrics.mutual_info_score\n",
    "]\n",
    "\n",
    "for score_func in score_funcs:\n",
    "    t0 = time.time()\n",
    "    km_scores = score_func(Y, km_y_hat)\n",
    "    print(\"K-Means算法:%s评估函数计算结果值:%.5f；计算消耗时间:%0.3fs\" % (score_func.__name__,km_scores, time.time() - t0))\n",
    "    \n",
    "    t0 = time.time()\n",
    "    mbkm_scores = score_func(Y, mbkm_y_hat)\n",
    "    print(\"Mini Batch K-Means算法:%s评估函数计算结果值:%.5f；计算消耗时间:%0.3fs\\n\" % (score_func.__name__,mbkm_scores, time.time() - t0))"
   ]
  },
  {
   "cell_type": "code",
   "execution_count": null,
   "metadata": {},
   "outputs": [],
   "source": []
  }
 ],
 "metadata": {
  "kernelspec": {
   "display_name": "Python 3",
   "language": "python",
   "name": "python3"
  },
  "language_info": {
   "codemirror_mode": {
    "name": "ipython",
    "version": 3
   },
   "file_extension": ".py",
   "mimetype": "text/x-python",
   "name": "python",
   "nbconvert_exporter": "python",
   "pygments_lexer": "ipython3",
   "version": "3.7.1"
  }
 },
 "nbformat": 4,
 "nbformat_minor": 2
}
