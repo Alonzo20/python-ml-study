{
 "cells": [
  {
   "cell_type": "code",
   "execution_count": 1,
   "metadata": {},
   "outputs": [],
   "source": [
    "import numpy as np\n",
    "import matplotlib as mpl\n",
    "import matplotlib.pyplot as plt\n",
    "import pandas as pd\n",
    "import warnings\n",
    "import sklearn\n",
    "from sklearn.linear_model import LogisticRegressionCV\n",
    "from sklearn.linear_model.coordinate_descent import ConvergenceWarning\n",
    "from sklearn.model_selection import train_test_split\n",
    "from sklearn.preprocessing import StandardScaler\n",
    "from sklearn.preprocessing import MinMaxScaler\n",
    "from sklearn.preprocessing import label_binarize\n",
    "from sklearn import metrics"
   ]
  },
  {
   "cell_type": "code",
   "execution_count": 2,
   "metadata": {},
   "outputs": [],
   "source": [
    "## 设置字符集，防止中文乱码\n",
    "mpl.rcParams['font.sans-serif']=['simHei']\n",
    "mpl.rcParams['axes.unicode_minus']=False\n",
    "## 拦截异常\n",
    "warnings.filterwarnings(action='ignore',category=ConvergenceWarning)"
   ]
  },
  {
   "cell_type": "code",
   "execution_count": 4,
   "metadata": {},
   "outputs": [
    {
     "data": {
      "text/html": [
       "<div>\n",
       "<style scoped>\n",
       "    .dataframe tbody tr th:only-of-type {\n",
       "        vertical-align: middle;\n",
       "    }\n",
       "\n",
       "    .dataframe tbody tr th {\n",
       "        vertical-align: top;\n",
       "    }\n",
       "\n",
       "    .dataframe thead th {\n",
       "        text-align: right;\n",
       "    }\n",
       "</style>\n",
       "<table border=\"1\" class=\"dataframe\">\n",
       "  <thead>\n",
       "    <tr style=\"text-align: right;\">\n",
       "      <th></th>\n",
       "      <th>fixed acidity</th>\n",
       "      <th>volatile acidity</th>\n",
       "      <th>citric acid</th>\n",
       "      <th>residual sugar</th>\n",
       "      <th>chlorides</th>\n",
       "      <th>free sulfur dioxide</th>\n",
       "      <th>total sulfur dioxide</th>\n",
       "      <th>density</th>\n",
       "      <th>pH</th>\n",
       "      <th>sulphates</th>\n",
       "      <th>alcohol</th>\n",
       "      <th>quality</th>\n",
       "      <th>type</th>\n",
       "    </tr>\n",
       "  </thead>\n",
       "  <tbody>\n",
       "    <tr>\n",
       "      <th>0</th>\n",
       "      <td>7.4</td>\n",
       "      <td>0.70</td>\n",
       "      <td>0.00</td>\n",
       "      <td>1.9</td>\n",
       "      <td>0.076</td>\n",
       "      <td>11.0</td>\n",
       "      <td>34.0</td>\n",
       "      <td>0.9978</td>\n",
       "      <td>3.51</td>\n",
       "      <td>0.56</td>\n",
       "      <td>9.4</td>\n",
       "      <td>5</td>\n",
       "      <td>1</td>\n",
       "    </tr>\n",
       "    <tr>\n",
       "      <th>1</th>\n",
       "      <td>7.8</td>\n",
       "      <td>0.88</td>\n",
       "      <td>0.00</td>\n",
       "      <td>2.6</td>\n",
       "      <td>0.098</td>\n",
       "      <td>25.0</td>\n",
       "      <td>67.0</td>\n",
       "      <td>0.9968</td>\n",
       "      <td>3.20</td>\n",
       "      <td>0.68</td>\n",
       "      <td>9.8</td>\n",
       "      <td>5</td>\n",
       "      <td>1</td>\n",
       "    </tr>\n",
       "    <tr>\n",
       "      <th>2</th>\n",
       "      <td>7.8</td>\n",
       "      <td>0.76</td>\n",
       "      <td>0.04</td>\n",
       "      <td>2.3</td>\n",
       "      <td>0.092</td>\n",
       "      <td>15.0</td>\n",
       "      <td>54.0</td>\n",
       "      <td>0.9970</td>\n",
       "      <td>3.26</td>\n",
       "      <td>0.65</td>\n",
       "      <td>9.8</td>\n",
       "      <td>5</td>\n",
       "      <td>1</td>\n",
       "    </tr>\n",
       "    <tr>\n",
       "      <th>3</th>\n",
       "      <td>11.2</td>\n",
       "      <td>0.28</td>\n",
       "      <td>0.56</td>\n",
       "      <td>1.9</td>\n",
       "      <td>0.075</td>\n",
       "      <td>17.0</td>\n",
       "      <td>60.0</td>\n",
       "      <td>0.9980</td>\n",
       "      <td>3.16</td>\n",
       "      <td>0.58</td>\n",
       "      <td>9.8</td>\n",
       "      <td>6</td>\n",
       "      <td>1</td>\n",
       "    </tr>\n",
       "    <tr>\n",
       "      <th>4</th>\n",
       "      <td>7.4</td>\n",
       "      <td>0.70</td>\n",
       "      <td>0.00</td>\n",
       "      <td>1.9</td>\n",
       "      <td>0.076</td>\n",
       "      <td>11.0</td>\n",
       "      <td>34.0</td>\n",
       "      <td>0.9978</td>\n",
       "      <td>3.51</td>\n",
       "      <td>0.56</td>\n",
       "      <td>9.4</td>\n",
       "      <td>5</td>\n",
       "      <td>1</td>\n",
       "    </tr>\n",
       "  </tbody>\n",
       "</table>\n",
       "</div>"
      ],
      "text/plain": [
       "   fixed acidity  volatile acidity  citric acid  residual sugar  chlorides  \\\n",
       "0            7.4              0.70         0.00             1.9      0.076   \n",
       "1            7.8              0.88         0.00             2.6      0.098   \n",
       "2            7.8              0.76         0.04             2.3      0.092   \n",
       "3           11.2              0.28         0.56             1.9      0.075   \n",
       "4            7.4              0.70         0.00             1.9      0.076   \n",
       "\n",
       "   free sulfur dioxide  total sulfur dioxide  density    pH  sulphates  \\\n",
       "0                 11.0                  34.0   0.9978  3.51       0.56   \n",
       "1                 25.0                  67.0   0.9968  3.20       0.68   \n",
       "2                 15.0                  54.0   0.9970  3.26       0.65   \n",
       "3                 17.0                  60.0   0.9980  3.16       0.58   \n",
       "4                 11.0                  34.0   0.9978  3.51       0.56   \n",
       "\n",
       "   alcohol  quality  type  \n",
       "0      9.4        5     1  \n",
       "1      9.8        5     1  \n",
       "2      9.8        5     1  \n",
       "3      9.8        6     1  \n",
       "4      9.4        5     1  "
      ]
     },
     "execution_count": 4,
     "metadata": {},
     "output_type": "execute_result"
    }
   ],
   "source": [
    "## 读取数据\n",
    "path1=\"datas/winequality-red.csv\"\n",
    "df1 = pd.read_csv(path1, sep=';')\n",
    "df1['type'] = 1 # 设置数据类型为红葡萄酒\n",
    "\n",
    "path2 = \"datas/winequality-white.csv\"\n",
    "df2 = pd.read_csv(path2, sep=\";\")\n",
    "df2['type'] = 2 # 设置数据类型为白葡萄酒\n",
    "\n",
    "# 合并两个df\n",
    "df = pd.concat([df1,df2], axis=0)\n",
    "\n",
    "## 自变量名称\n",
    "names = [\"fixed acidity\",\"volatile acidity\",\"citric acid\",\n",
    "         \"residual sugar\",\"chlorides\",\"free sulfur dioxide\",\n",
    "         \"total sulfur dioxide\",\"density\",\"pH\",\"sulphates\",\n",
    "         \"alcohol\", \"type\"]\n",
    "## 因变量名称\n",
    "quality = \"quality\"\n",
    "\n",
    "## 显示\n",
    "df.head(5)"
   ]
  },
  {
   "cell_type": "code",
   "execution_count": 5,
   "metadata": {},
   "outputs": [
    {
     "name": "stdout",
     "output_type": "stream",
     "text": [
      "原始数据条数:6497；异常数据处理后数据条数:6497；异常数据条数:0\n"
     ]
    }
   ],
   "source": [
    "## 异常数据处理\n",
    "new_df = df.replace('?', np.nan)\n",
    "datas = new_df.dropna(how = 'any') # 只要有列为空，就进行删除操作\n",
    "print(\"原始数据条数:%d；异常数据处理后数据条数:%d；异常数据条数:%d\" % (len(df), len(datas), len(df) - len(datas)))\n",
    "\n",
    "## 提取自变量和因变量\n",
    "X = datas[names]\n",
    "Y = datas[quality]"
   ]
  },
  {
   "cell_type": "code",
   "execution_count": 6,
   "metadata": {},
   "outputs": [
    {
     "name": "stdout",
     "output_type": "stream",
     "text": [
      "训练数据条数:6334；数据特征个数:12；测试数据条数:163\n"
     ]
    }
   ],
   "source": [
    "## 数据分割\n",
    "X_train,X_test,Y_train,Y_test = train_test_split(X,Y,test_size=0.025, random_state=0)\n",
    "\n",
    "print(\"训练数据条数:%d；数据特征个数:%d；测试数据条数:%d\" % (X_train.shape[0], X_train.shape[1], X_test.shape[0]))"
   ]
  },
  {
   "cell_type": "code",
   "execution_count": 7,
   "metadata": {},
   "outputs": [
    {
     "name": "stderr",
     "output_type": "stream",
     "text": [
      "D:\\ProgramData\\Anaconda3\\lib\\site-packages\\sklearn\\preprocessing\\data.py:323: DataConversionWarning: Data with input dtype int64, float64 were all converted to float64 by MinMaxScaler.\n",
      "  return self.partial_fit(X, y)\n"
     ]
    }
   ],
   "source": [
    "# 2.数据格式化（归一化）\n",
    "ss = MinMaxScaler()\n",
    "X_train = ss.fit_transform(X_train) ## 训练模型及归一化数据"
   ]
  },
  {
   "cell_type": "code",
   "execution_count": 10,
   "metadata": {},
   "outputs": [
    {
     "name": "stderr",
     "output_type": "stream",
     "text": [
      "D:\\ProgramData\\Anaconda3\\lib\\site-packages\\sklearn\\model_selection\\_split.py:2053: FutureWarning: You should specify a value for 'cv' instead of relying on the default value. The default value will change from 3 to 5 in version 0.22.\n",
      "  warnings.warn(CV_WARNING, FutureWarning)\n"
     ]
    },
    {
     "data": {
      "text/plain": [
       "LogisticRegressionCV(Cs=array([1.00000e-05, 1.14976e-05, ..., 8.69749e+00, 1.00000e+01]),\n",
       "           class_weight=None, cv='warn', dual=False, fit_intercept=True,\n",
       "           intercept_scaling=1.0, max_iter=100, multi_class='multinomial',\n",
       "           n_jobs=None, penalty='l2', random_state=None, refit=True,\n",
       "           scoring=None, solver='lbfgs', tol=0.0001, verbose=0)"
      ]
     },
     "execution_count": 10,
     "metadata": {},
     "output_type": "execute_result"
    }
   ],
   "source": [
    "# 3. 模型构建及训练\n",
    "## penalty: 过拟合解决参数,l1或者l2\n",
    "\n",
    "## solver: 参数优化方式\n",
    "### 当penalty为l1的时候，参数只能是：liblinear(坐标轴下降法)；\n",
    "### 当penalty为l2的时候，参数可以是：lbfgs(拟牛顿法)、newton-cg(牛顿法变种)\n",
    "\n",
    "## multi_class: 分类方式参数；参数可选: ovr(默认)、multinomial；这两种方式在二元分类问题中，效果是一样的；在多元分类问题中，效果不一样\n",
    "### ovr: one-vs-rest， 对于多元分类的问题，先将其看做二元分类，分类完成后，再迭代对其中一类继续进行二元分类\n",
    "### multinomial: many-vs-many（MVM）,对于多元分类问题，如果模型有T类，我们每次在所有的T类样本里面选择两类样本出来，\n",
    "#### 不妨记为T1类和T2类，把所有的输出为T1和T2的样本放在一起，把T1作为正例，T2作为负例，\n",
    "#### 进行二元逻辑回归，得到模型参数。我们一共需要T(T-1)/2次分类\n",
    "\n",
    "## class_weight: 特征权重参数\n",
    "lr = LogisticRegressionCV(fit_intercept=True, Cs=np.logspace(-5, 1, 100), \n",
    "                          multi_class='multinomial', penalty='l2', solver='lbfgs')\n",
    "lr.fit(X_train, Y_train)"
   ]
  },
  {
   "cell_type": "code",
   "execution_count": 11,
   "metadata": {},
   "outputs": [
    {
     "name": "stdout",
     "output_type": "stream",
     "text": [
      "R值： 0.5457846542469214\n",
      "特征稀疏化比率：0.00%\n",
      "参数： [[ 3.76210588  6.6347507  -1.18555164 -1.18431947  3.51504398  3.96654484\n",
      "   1.84926157  0.12192114  1.33526643 -2.25619723 -2.33735634  0.4450583 ]\n",
      " [ 0.52761222  6.9943253  -0.41962535 -4.62364511  1.14537172 -8.40488096\n",
      "  -1.1749906   1.25251524  0.06266805 -0.9515698  -4.34144451  2.09934115]\n",
      " [-2.35146421  2.0651869   0.73565358 -3.58175707  0.72105767 -2.79410024\n",
      "   2.48153932  2.49455666 -1.80805966 -2.1583225  -5.38575131 -1.15247509]\n",
      " [-2.41636738 -3.65304737 -0.07742632 -0.21120858  0.30636329  0.47294781\n",
      "  -0.23569828  2.62791974 -1.4523726   0.56980453  0.06424357 -1.13627715]\n",
      " [ 0.67305306 -6.91779104 -0.4057789   5.08303277 -3.70198008  2.03606222\n",
      "  -1.353118   -4.73364459  0.34245461  3.42885836  3.34144927 -1.17520838]\n",
      " [-1.29168394 -4.82517137  0.45636098  4.77522163 -1.24432783  4.52228311\n",
      "  -1.16058309 -1.01738126 -0.04489091  1.85985717  5.40527754 -0.3981687 ]\n",
      " [ 1.09674437 -0.29825312  0.89636765 -0.25732416 -0.74152875  0.20114322\n",
      "  -0.40641092 -0.74588693  1.56493408 -0.49243053  3.25358178  1.31772987]]\n",
      "截距： [-4.73962294 -0.08542879  5.89217507  5.1284726   2.22038872 -1.61165115\n",
      " -6.80433351]\n"
     ]
    }
   ],
   "source": [
    "# 4.模型效果获取\n",
    "r = lr.score(X_train, Y_train)\n",
    "print(\"R值：\", r)\n",
    "print(\"特征稀疏化比率：%.2f%%\" % (np.mean(lr.coef_.ravel() == 0) * 100))\n",
    "print(\"参数：\",lr.coef_)\n",
    "print(\"截距：\",lr.intercept_)"
   ]
  },
  {
   "cell_type": "code",
   "execution_count": 12,
   "metadata": {},
   "outputs": [],
   "source": [
    "# 数据预测\n",
    "## a. 预测数据格式化（归一化）\n",
    "X_test = ss.transform(X_test) # 试用模型进行归一化操作\n",
    "## b.结果数据预测\n",
    "Y_predict = lr.predict(X_test)"
   ]
  },
  {
   "cell_type": "code",
   "execution_count": 14,
   "metadata": {},
   "outputs": [
    {
     "data": {
      "image/png": "[encoded data removed]",
      "text/plain": [
       "<Figure size 1008x504 with 1 Axes>"
      ]
     },
     "metadata": {},
     "output_type": "display_data"
    }
   ],
   "source": [
    "## c.图标展示\n",
    "x_len=range(len(X_test))\n",
    "plt.figure(figsize=(14,7),facecolor='w')\n",
    "plt.ylim(-1,11)\n",
    "plt.plot(x_len, Y_test, 'ro', markersize = 8, zorder=3, label ='真实值')\n",
    "plt.plot(x_len, Y_predict, 'go', markersize = 12, zorder=2, label='预测值')\n",
    "plt.legend(loc='upper left')\n",
    "plt.xlabel('数据编号',fontsize=18)\n",
    "plt.ylabel('葡萄酒质量',fontsize=18)\n",
    "plt.title('葡萄酒值两预测统计',fontsize=20)\n",
    "plt.show()"
   ]
  },
  {
   "cell_type": "code",
   "execution_count": 15,
   "metadata": {},
   "outputs": [
    {
     "data": {
      "text/plain": [
       "[0, 0, 0, 30, 216, 2138, 2836, 1079, 193, 5, 0]"
      ]
     },
     "execution_count": 15,
     "metadata": {},
     "output_type": "execute_result"
    }
   ],
   "source": [
    "# 查看数据分布情况\n",
    "[len(df[df.quality==i]) for i in range(11)]"
   ]
  },
  {
   "cell_type": "code",
   "execution_count": 23,
   "metadata": {},
   "outputs": [
    {
     "name": "stdout",
     "output_type": "stream",
     "text": [
      "训练数据条数:6334；数据特征个数:12；测试数据条数:163\n"
     ]
    },
    {
     "name": "stderr",
     "output_type": "stream",
     "text": [
      "D:\\ProgramData\\Anaconda3\\lib\\site-packages\\sklearn\\model_selection\\_split.py:2053: FutureWarning: You should specify a value for 'cv' instead of relying on the default value. The default value will change from 3 to 5 in version 0.22.\n",
      "  warnings.warn(CV_WARNING, FutureWarning)\n"
     ]
    },
    {
     "name": "stdout",
     "output_type": "stream",
     "text": [
      "R值： 0.47537101357751815\n",
      "特征稀疏化比率：0.00%\n",
      "参数： [[ 1.84500127e+00  1.68463673e+00 -4.53416256e-01  1.35857416e+00\n",
      "   1.47902764e-01 -1.00263859e-01 -2.63122422e+00  1.92680024e-01\n",
      "   9.72728607e-01 -2.68056591e-01 -9.41676792e-01  2.30033322e-01]\n",
      " [-9.72211786e-01  3.95795413e+00 -1.97764098e+00 -2.38522896e+00\n",
      "   3.99749074e-02 -6.29155424e+00  6.21338605e-01  1.03793396e+00\n",
      "   4.08447480e+00 -1.05329516e+00  2.05480824e+00  3.25088818e+00]\n",
      " [ 7.29469378e+00  1.46874069e+01 -6.26470658e+00  6.65860382e-01\n",
      "   1.65708255e+00 -1.12680013e+00 -1.06103432e+00  6.46290042e+00\n",
      "   2.40916705e+01 -8.04879573e-01 -1.52596223e+01 -7.22865840e+00]\n",
      " [ 2.28275678e+00 -7.26318622e+00  2.10565178e+00  1.52395150e+00\n",
      "  -3.08387320e-01  1.83136411e+00  9.00638101e-01 -1.06440791e+00\n",
      "  -4.28659756e+00  1.45407549e+00 -3.05399747e-01  1.71426552e+00]\n",
      " [-2.36180804e+00 -1.12676733e+01  5.62335128e+00 -1.34766798e+00\n",
      "  -1.20320878e+00  2.30969389e+00  1.04516044e+00 -5.32879143e+00\n",
      "  -2.00048460e+01  1.12223044e+00  9.68610105e+00  1.24507978e+00]\n",
      " [-7.24718400e+00 -1.72290769e+00  9.66653804e-01  7.61158807e-01\n",
      "  -3.12823949e-01  2.60021906e+00  6.81649205e-01 -1.18683227e+00\n",
      "  -4.51709273e+00 -3.56916868e-01  5.36235407e+00  7.99336471e-01]\n",
      " [-8.41248000e-01 -7.62305607e-02  1.06946036e-04 -5.76647899e-01\n",
      "  -2.05401792e-02  7.77341175e-01  4.43472191e-01 -1.13482802e-01\n",
      "  -3.40337656e-01 -9.31577419e-02 -5.96564469e-01 -1.09448739e-02]]\n",
      "截距： [ 0.21459775  0.49625115  3.81880332  1.15675438 -0.1292321  -1.38050799\n",
      " -4.17666651]\n"
     ]
    },
    {
     "data": {
      "image/png": "[encoded data removed]",
      "text/plain": [
       "<Figure size 1008x504 with 1 Axes>"
      ]
     },
     "metadata": {},
     "output_type": "display_data"
    }
   ],
   "source": [
    "### 对数据进行降维处理后建模，查看效果：使用PCA讲维（有时候进行特征抽取和数据降维对于模型的算法是没有太好的改进的）\n",
    "from sklearn.preprocessing import MinMaxScaler\n",
    "from sklearn.decomposition import PCA\n",
    "from sklearn.feature_selection import SelectKBest\n",
    "from sklearn.feature_selection import chi2\n",
    "from sklearn.preprocessing import Normalizer\n",
    "\n",
    "## 数据分割\n",
    "X1_train,X1_test,Y1_train,Y1_test = train_test_split(X,Y,test_size=0.025,random_state=0)\n",
    "print(\"训练数据条数:%d；数据特征个数:%d；测试数据条数:%d\" % (X1_train.shape[0], X1_train.shape[1], X1_test.shape[0]))\n",
    "\n",
    "## 数据特征转换（归一化）\n",
    "## 数据格式化（归一化）\n",
    "ss2 = Normalizer()\n",
    "X1_train = ss2.fit_transform(X1_train) ## 训练模型及归一化数据\n",
    "\n",
    "## 特征选择\n",
    "#skb = SelectKBest(chi2, k=10) ## 只考虑3个维度\n",
    "#X1_train = skb.fit_transform(X1_train, Y1_train) ## 训练模型及特征选择\n",
    "\n",
    "## 降维\n",
    "#pca = PCA(n_components=5) ## 将样本数据维度降低成为5个维度\n",
    "#X1_train = pca.fit_transform(X1_train)\n",
    "#print \"贡献率:\", pca.explained_variance_\n",
    "\n",
    "## 模型国建\n",
    "lr2 = LogisticRegressionCV(fit_intercept=True, Cs=np.logspace(-5, 1, 100), \n",
    "                          multi_class='multinomial', penalty='l2', solver='lbfgs')\n",
    "lr2.fit(X1_train, Y1_train)\n",
    "\n",
    "## 模型效果输出\n",
    "r = lr2.score(X1_train, Y1_train)\n",
    "print(\"R值：\", r)\n",
    "print(\"特征稀疏化比率：%.2f%%\" % (np.mean(lr2.coef_.ravel() == 0) * 100))\n",
    "print(\"参数：\",lr2.coef_)\n",
    "print(\"截距：\",lr2.intercept_)\n",
    "\n",
    "## 数据预测\n",
    "## a. 预测数据格式化（归一化）\n",
    "X1_test = ss2.transform(X1_test) ## 测试数据归一化\n",
    "#X1_test = skb.transform(X1_test) ## 测试数据特征选择\n",
    "#X1_test = pca.fit_transform(X1_test) ## 测试数据降维\n",
    "\n",
    "## b.结果数据预测\n",
    "Y1_predict = lr.predict(X1_test)\n",
    "\n",
    "## c. 图表展示\n",
    "x1_len = range(len(X1_test))\n",
    "plt.figure(figsize=(14,7), facecolor='w')\n",
    "plt.ylim(-1,11)\n",
    "plt.plot(x1_len, Y1_test, 'ro', markersize=8, zorder=3, label='真实值')\n",
    "plt.plot(x1_len, Y1_predict, 'go', markersize=12, zorder=2, label='预测值,$R^2$=%.3f' % lr2.score(X1_train, Y1_train))\n",
    "plt.legend(loc='upper left')\n",
    "plt.xlabel('数据编号',fontsize=18)\n",
    "plt.ylabel('葡萄酒质量',fontsize=18)\n",
    "plt.title('葡萄酒质量预测统计(降维处理)', fontsize=20)\n",
    "plt.show()\n"
   ]
  },
  {
   "cell_type": "code",
   "execution_count": 25,
   "metadata": {},
   "outputs": [
    {
     "name": "stdout",
     "output_type": "stream",
     "text": [
      "原始数据AUC值: 0.8951660456421644\n",
      "降维数据AUC值: 0.8719309470937308\n"
     ]
    }
   ],
   "source": [
    "### 从auc角度看效果==>效果不错\n",
    "from sklearn.preprocessing import label_binarize\n",
    "from sklearn import metrics\n",
    "y_test_hot = label_binarize(Y1_test, classes=(3,4,5,6,7,8,9)).ravel()\n",
    "\n",
    "### 计算原始数据模型\n",
    "## 等到预测的损失值\n",
    "lr_y_score = lr.decision_function(X_test).ravel()\n",
    "## 计算roc的值\n",
    "lr_fpr, lr_tpr, lr_threasholds = metrics.roc_curve(y_test_hot,lr_y_score)\n",
    "## 计算auc的值\n",
    "lr_auc = metrics.auc(lr_fpr, lr_tpr)\n",
    "\n",
    "## 计算降维后的数据模型\n",
    "lr2_y_score = lr2.decision_function(X1_test).ravel()\n",
    "## 计算roc值\n",
    "lr2_fpr, lr2_tpr, lr2_threasholds = metrics.roc_curve(y_test_hot,lr2_y_score)\n",
    "## 计算auc的值\n",
    "lr2_auc = metrics.auc(lr2_fpr, lr2_tpr)\n",
    "\n",
    "print(\"原始数据AUC值:\", lr_auc)\n",
    "print(\"降维数据AUC值:\", lr2_auc)"
   ]
  },
  {
   "cell_type": "code",
   "execution_count": null,
   "metadata": {},
   "outputs": [],
   "source": []
  }
 ],
 "metadata": {
  "kernelspec": {
   "display_name": "Python 3",
   "language": "python",
   "name": "python3"
  },
  "language_info": {
   "codemirror_mode": {
    "name": "ipython",
    "version": 3
   },
   "file_extension": ".py",
   "mimetype": "text/x-python",
   "name": "python",
   "nbconvert_exporter": "python",
   "pygments_lexer": "ipython3",
   "version": "3.7.1"
  }
 },
 "nbformat": 4,
 "nbformat_minor": 2
}
