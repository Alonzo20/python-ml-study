{
 "cells": [
  {
   "cell_type": "code",
   "execution_count": 1,
   "metadata": {
    "collapsed": false
   },
   "outputs": [
    {
     "name": "stderr",
     "output_type": "stream",
     "text": [
      "C:\\Anaconda2\\lib\\site-packages\\sklearn\\cross_validation.py:44: DeprecationWarning: This module was deprecated in version 0.18 in favor of the model_selection module into which all the refactored classes and functions are moved. Also note that the interface of the new CV iterators are different from that of this module. This module will be removed in 0.20.\n",
      "  \"This module will be removed in 0.20.\", DeprecationWarning)\n"
     ]
    }
   ],
   "source": [
    "import numpy as np\n",
    "import matplotlib as mpl\n",
    "import matplotlib.pyplot as plt\n",
    "import pandas as pd\n",
    "import warnings\n",
    "import sklearn\n",
    "from sklearn.linear_model import LogisticRegressionCV\n",
    "from sklearn.linear_model.coordinate_descent import ConvergenceWarning\n",
    "from sklearn.cross_validation import train_test_split\n",
    "from sklearn.preprocessing import StandardScaler\n",
    "from sklearn.preprocessing import MinMaxScaler\n",
    "from sklearn.preprocessing import label_binarize\n",
    "from sklearn import metrics"
   ]
  },
  {
   "cell_type": "code",
   "execution_count": 2,
   "metadata": {
    "collapsed": true
   },
   "outputs": [],
   "source": [
    "## 设置字符集，防止中文乱码\n",
    "mpl.rcParams['font.sans-serif']=[u'simHei']\n",
    "mpl.rcParams['axes.unicode_minus']=False\n",
    "## 拦截异常\n",
    "warnings.filterwarnings(action = 'ignore', category=ConvergenceWarning)"
   ]
  },
  {
   "cell_type": "code",
   "execution_count": 3,
   "metadata": {
    "collapsed": false
   },
   "outputs": [
    {
     "data": {
      "text/html": [
       "<div>\n",
       "<table border=\"1\" class=\"dataframe\">\n",
       "  <thead>\n",
       "    <tr style=\"text-align: right;\">\n",
       "      <th></th>\n",
       "      <th>fixed acidity</th>\n",
       "      <th>volatile acidity</th>\n",
       "      <th>citric acid</th>\n",
       "      <th>residual sugar</th>\n",
       "      <th>chlorides</th>\n",
       "      <th>free sulfur dioxide</th>\n",
       "      <th>total sulfur dioxide</th>\n",
       "      <th>density</th>\n",
       "      <th>pH</th>\n",
       "      <th>sulphates</th>\n",
       "      <th>alcohol</th>\n",
       "      <th>quality</th>\n",
       "      <th>type</th>\n",
       "    </tr>\n",
       "  </thead>\n",
       "  <tbody>\n",
       "    <tr>\n",
       "      <th>0</th>\n",
       "      <td>7.4</td>\n",
       "      <td>0.70</td>\n",
       "      <td>0.00</td>\n",
       "      <td>1.9</td>\n",
       "      <td>0.076</td>\n",
       "      <td>11.0</td>\n",
       "      <td>34.0</td>\n",
       "      <td>0.9978</td>\n",
       "      <td>3.51</td>\n",
       "      <td>0.56</td>\n",
       "      <td>9.4</td>\n",
       "      <td>5</td>\n",
       "      <td>1</td>\n",
       "    </tr>\n",
       "    <tr>\n",
       "      <th>1</th>\n",
       "      <td>7.8</td>\n",
       "      <td>0.88</td>\n",
       "      <td>0.00</td>\n",
       "      <td>2.6</td>\n",
       "      <td>0.098</td>\n",
       "      <td>25.0</td>\n",
       "      <td>67.0</td>\n",
       "      <td>0.9968</td>\n",
       "      <td>3.20</td>\n",
       "      <td>0.68</td>\n",
       "      <td>9.8</td>\n",
       "      <td>5</td>\n",
       "      <td>1</td>\n",
       "    </tr>\n",
       "    <tr>\n",
       "      <th>2</th>\n",
       "      <td>7.8</td>\n",
       "      <td>0.76</td>\n",
       "      <td>0.04</td>\n",
       "      <td>2.3</td>\n",
       "      <td>0.092</td>\n",
       "      <td>15.0</td>\n",
       "      <td>54.0</td>\n",
       "      <td>0.9970</td>\n",
       "      <td>3.26</td>\n",
       "      <td>0.65</td>\n",
       "      <td>9.8</td>\n",
       "      <td>5</td>\n",
       "      <td>1</td>\n",
       "    </tr>\n",
       "    <tr>\n",
       "      <th>3</th>\n",
       "      <td>11.2</td>\n",
       "      <td>0.28</td>\n",
       "      <td>0.56</td>\n",
       "      <td>1.9</td>\n",
       "      <td>0.075</td>\n",
       "      <td>17.0</td>\n",
       "      <td>60.0</td>\n",
       "      <td>0.9980</td>\n",
       "      <td>3.16</td>\n",
       "      <td>0.58</td>\n",
       "      <td>9.8</td>\n",
       "      <td>6</td>\n",
       "      <td>1</td>\n",
       "    </tr>\n",
       "    <tr>\n",
       "      <th>4</th>\n",
       "      <td>7.4</td>\n",
       "      <td>0.70</td>\n",
       "      <td>0.00</td>\n",
       "      <td>1.9</td>\n",
       "      <td>0.076</td>\n",
       "      <td>11.0</td>\n",
       "      <td>34.0</td>\n",
       "      <td>0.9978</td>\n",
       "      <td>3.51</td>\n",
       "      <td>0.56</td>\n",
       "      <td>9.4</td>\n",
       "      <td>5</td>\n",
       "      <td>1</td>\n",
       "    </tr>\n",
       "  </tbody>\n",
       "</table>\n",
       "</div>"
      ],
      "text/plain": [
       "   fixed acidity  volatile acidity  citric acid  residual sugar  chlorides  \\\n",
       "0            7.4              0.70         0.00             1.9      0.076   \n",
       "1            7.8              0.88         0.00             2.6      0.098   \n",
       "2            7.8              0.76         0.04             2.3      0.092   \n",
       "3           11.2              0.28         0.56             1.9      0.075   \n",
       "4            7.4              0.70         0.00             1.9      0.076   \n",
       "\n",
       "   free sulfur dioxide  total sulfur dioxide  density    pH  sulphates  \\\n",
       "0                 11.0                  34.0   0.9978  3.51       0.56   \n",
       "1                 25.0                  67.0   0.9968  3.20       0.68   \n",
       "2                 15.0                  54.0   0.9970  3.26       0.65   \n",
       "3                 17.0                  60.0   0.9980  3.16       0.58   \n",
       "4                 11.0                  34.0   0.9978  3.51       0.56   \n",
       "\n",
       "   alcohol  quality  type  \n",
       "0      9.4        5     1  \n",
       "1      9.8        5     1  \n",
       "2      9.8        5     1  \n",
       "3      9.8        6     1  \n",
       "4      9.4        5     1  "
      ]
     },
     "execution_count": 3,
     "metadata": {},
     "output_type": "execute_result"
    }
   ],
   "source": [
    "## 读取数据\n",
    "path1 = \"datas/winequality-red.csv\"\n",
    "df1 = pd.read_csv(path1, sep=\";\")\n",
    "df1['type'] = 1 # 设置数据类型为红葡萄酒\n",
    "\n",
    "path2 = \"datas/winequality-white.csv\"\n",
    "df2 = pd.read_csv(path2, sep=\";\")\n",
    "df2['type'] = 2 # 设置数据类型为白葡萄酒\n",
    "\n",
    "# 合并两个df\n",
    "df = pd.concat([df1,df2], axis=0)\n",
    "\n",
    "## 自变量名称\n",
    "names = [\"fixed acidity\",\"volatile acidity\",\"citric acid\",\n",
    "         \"residual sugar\",\"chlorides\",\"free sulfur dioxide\",\n",
    "         \"total sulfur dioxide\",\"density\",\"pH\",\"sulphates\",\n",
    "         \"alcohol\", \"type\"]\n",
    "## 因变量名称\n",
    "quality = \"quality\"\n",
    "\n",
    "## 显示\n",
    "df.head(5)"
   ]
  },
  {
   "cell_type": "code",
   "execution_count": 4,
   "metadata": {
    "collapsed": false
   },
   "outputs": [
    {
     "name": "stdout",
     "output_type": "stream",
     "text": [
      "原始数据条数:6497；异常数据处理后数据条数:6497；异常数据条数:0\n"
     ]
    }
   ],
   "source": [
    "## 异常数据处理\n",
    "new_df = df.replace('?', np.nan)\n",
    "datas = new_df.dropna(how = 'any') # 只要有列为空，就进行删除操作\n",
    "print \"原始数据条数:%d；异常数据处理后数据条数:%d；异常数据条数:%d\" % (len(df), len(datas), len(df) - len(datas))\n",
    "\n",
    "## 提取自变量和因变量\n",
    "X = datas[names]\n",
    "Y = datas[quality]"
   ]
  },
  {
   "cell_type": "code",
   "execution_count": 5,
   "metadata": {
    "collapsed": false
   },
   "outputs": [
    {
     "name": "stdout",
     "output_type": "stream",
     "text": [
      "训练数据条数:6334；数据特征个数:12；测试数据条数:163\n"
     ]
    }
   ],
   "source": [
    "## 数据分割\n",
    "X_train,X_test,Y_train,Y_test = train_test_split(X,Y,test_size=0.025,random_state=0)\n",
    "\n",
    "print \"训练数据条数:%d；数据特征个数:%d；测试数据条数:%d\" % (X_train.shape[0], X_train.shape[1], X_test.shape[0])"
   ]
  },
  {
   "cell_type": "code",
   "execution_count": 6,
   "metadata": {
    "collapsed": false
   },
   "outputs": [],
   "source": [
    "# 2. 数据格式化(归一化)\n",
    "ss = MinMaxScaler()\n",
    "X_train = ss.fit_transform(X_train) ## 训练模型及归一化数据"
   ]
  },
  {
   "cell_type": "code",
   "execution_count": 7,
   "metadata": {
    "collapsed": false,
    "scrolled": true
   },
   "outputs": [
    {
     "data": {
      "text/plain": [
       "LogisticRegressionCV(Cs=array([  1.00000e-05,   1.14976e-05, ...,   8.69749e+00,   1.00000e+01]),\n",
       "           class_weight=None, cv=None, dual=False, fit_intercept=True,\n",
       "           intercept_scaling=1.0, max_iter=100, multi_class='multinomial',\n",
       "           n_jobs=1, penalty='l2', random_state=None, refit=True,\n",
       "           scoring=None, solver='lbfgs', tol=0.0001, verbose=0)"
      ]
     },
     "execution_count": 7,
     "metadata": {},
     "output_type": "execute_result"
    }
   ],
   "source": [
    "# 3. 模型构建及训练\n",
    "## penalty: 过拟合解决参数,l1或者l2\n",
    "\n",
    "## solver: 参数优化方式\n",
    "### 当penalty为l1的时候，参数只能是：liblinear(坐标轴下降法)；\n",
    "### 当penalty为l2的时候，参数可以是：lbfgs(拟牛顿法)、newton-cg(牛顿法变种)\n",
    "\n",
    "## multi_class: 分类方式参数；参数可选: ovr(默认)、multinomial；这两种方式在二元分类问题中，效果是一样的；在多元分类问题中，效果不一样\n",
    "### ovr: one-vs-rest， 对于多元分类的问题，先将其看做二元分类，分类完成后，再迭代对其中一类继续进行二元分类\n",
    "### multinomial: many-vs-many（MVM）,对于多元分类问题，如果模型有T类，我们每次在所有的T类样本里面选择两类样本出来，\n",
    "#### 不妨记为T1类和T2类，把所有的输出为T1和T2的样本放在一起，把T1作为正例，T2作为负例，\n",
    "#### 进行二元逻辑回归，得到模型参数。我们一共需要T(T-1)/2次分类\n",
    "\n",
    "## class_weight: 特征权重参数\n",
    "lr = LogisticRegressionCV(fit_intercept=True, Cs=np.logspace(-5, 1, 100), \n",
    "                          multi_class='multinomial', penalty='l2', solver='lbfgs')\n",
    "lr.fit(X_train, Y_train)"
   ]
  },
  {
   "cell_type": "code",
   "execution_count": 8,
   "metadata": {
    "collapsed": false,
    "scrolled": true
   },
   "outputs": [
    {
     "name": "stdout",
     "output_type": "stream",
     "text": [
      "R值： 0.545468898011\n",
      "特征稀疏化比率：0.00%\n",
      "参数： [[ 3.79574242  6.67554806 -1.19476941 -1.2023249   3.55235826  4.02119547\n",
      "   1.85911245  0.11502101  1.3471271  -2.27787389 -2.33800449  0.45907989]\n",
      " [ 0.52088075  7.01259868 -0.42757585 -4.63336187  1.15580238 -8.45908736\n",
      "  -1.15868039  1.27926735  0.05304323 -0.9550173  -4.3614135   2.09762271]\n",
      " [-2.36034113  2.06307355  0.74506968 -3.60786673  0.72172594 -2.80558296\n",
      "   2.48383012  2.52137325 -1.82350373 -2.15775315 -5.38377218 -1.1555748 ]\n",
      " [-2.43688456 -3.6631658  -0.07604303 -0.22186009  0.29757977  0.47444466\n",
      "  -0.23455771  2.65128735 -1.45039681  0.57095324  0.06483853 -1.13937649]\n",
      " [ 0.67568013 -6.93985411 -0.39558717  5.11877472 -3.72054173  2.03066529\n",
      "  -1.35244029 -4.77897141  0.34335662  3.45228433  3.32850998 -1.18251933]\n",
      " [-1.3043647  -4.84479077  0.44363922  4.80613258 -1.25709009  4.53549043\n",
      "  -1.18438528 -1.03500623 -0.04861786  1.8662242   5.41097159 -0.40071788]\n",
      " [ 1.10928709 -0.3034096   0.90526656 -0.25949371 -0.74983452  0.20287447\n",
      "  -0.41287889 -0.75297133  1.57899146 -0.49881743  3.27887008  1.32148591]]\n",
      "截距： [-4.76746174 -0.0714511   5.89896371  5.13620751  2.23469252 -1.60066251\n",
      " -6.83028839]\n"
     ]
    }
   ],
   "source": [
    "# 4. 模型效果获取\n",
    "r = lr.score(X_train, Y_train)\n",
    "print \"R值：\", r\n",
    "print \"特征稀疏化比率：%.2f%%\" % (np.mean(lr.coef_.ravel() == 0) * 100)\n",
    "print \"参数：\",lr.coef_\n",
    "print \"截距：\",lr.intercept_"
   ]
  },
  {
   "cell_type": "code",
   "execution_count": 9,
   "metadata": {
    "collapsed": true
   },
   "outputs": [],
   "source": [
    "# 数据预测\n",
    "## a. 预测数据格式化(归一化)\n",
    "X_test = ss.transform(X_test) # 使用模型进行归一化操作\n",
    "## b. 结果数据预测\n",
    "Y_predict = lr.predict(X_test)"
   ]
  },
  {
   "cell_type": "code",
   "execution_count": 10,
   "metadata": {
    "collapsed": false
   },
   "outputs": [
    {
     "data": {
      "image/png": "[encoded data removed]",
      "text/plain": [
       "<matplotlib.figure.Figure at 0xc0693c8>"
      ]
     },
     "metadata": {},
     "output_type": "display_data"
    }
   ],
   "source": [
    "## c. 图表展示\n",
    "x_len = range(len(X_test))\n",
    "plt.figure(figsize=(14,7), facecolor='w')\n",
    "plt.ylim(-1,11)\n",
    "plt.plot(x_len, Y_test, 'ro',markersize = 8, zorder=3, label=u'真实值')\n",
    "plt.plot(x_len, Y_predict, 'go', markersize = 12, zorder=2, label=u'预测值,$R^2$=%.3f' % lr.score(X_train, Y_train))\n",
    "plt.legend(loc = 'upper left')\n",
    "plt.xlabel(u'数据编号', fontsize=18)\n",
    "plt.ylabel(u'葡萄酒质量', fontsize=18)\n",
    "plt.title(u'葡萄酒质量预测统计', fontsize=20)\n",
    "plt.show()"
   ]
  },
  {
   "cell_type": "code",
   "execution_count": 11,
   "metadata": {
    "collapsed": false,
    "scrolled": true
   },
   "outputs": [
    {
     "data": {
      "text/plain": [
       "[0, 0, 0, 30, 216, 2138, 2836, 1079, 193, 5, 0]"
      ]
     },
     "execution_count": 11,
     "metadata": {},
     "output_type": "execute_result"
    }
   ],
   "source": [
    "# 查看数据分布情况\n",
    "[len(df[df.quality == i]) for i in range(11)]"
   ]
  },
  {
   "cell_type": "code",
   "execution_count": 12,
   "metadata": {
    "collapsed": false
   },
   "outputs": [
    {
     "name": "stdout",
     "output_type": "stream",
     "text": [
      "训练数据条数:6334；数据特征个数:12；测试数据条数:163\n",
      "R值： 0.474581622987\n",
      "特征稀疏化比率：0.00%\n",
      "参数： [[  1.82941309e+00   1.65963037e+00  -4.46081057e-01   1.34636144e+00\n",
      "    1.45797403e-01  -9.13687494e-02  -2.60876953e+00   1.91178651e-01\n",
      "    9.62666712e-01  -2.63127554e-01  -9.12228692e-01   2.27692453e-01]\n",
      " [ -9.88923607e-01   3.90163227e+00  -1.95165429e+00  -2.38247679e+00\n",
      "    3.91657380e-02  -6.26076516e+00   6.16305328e-01   1.02556513e+00\n",
      "    4.03808738e+00  -1.03715892e+00   2.07672601e+00   3.20887860e+00]\n",
      " [  7.29099151e+00   1.45281795e+01  -6.20513716e+00   6.62794055e-01\n",
      "    1.63846490e+00  -1.11260833e+00  -1.04873952e+00   6.38810138e+00\n",
      "    2.38263295e+01  -7.80905933e-01  -1.51727821e+01  -7.15114734e+00]\n",
      " [  2.29455961e+00  -7.18641711e+00   2.09675192e+00   1.51842982e+00\n",
      "   -3.05988347e-01   1.82023522e+00   8.96533801e-01  -1.05951411e+00\n",
      "   -4.27572988e+00   1.42995444e+00  -3.20491021e-01   1.69787925e+00]\n",
      " [ -2.39470027e+00  -1.11294748e+01   5.55679238e+00  -1.33062199e+00\n",
      "   -1.18840841e+00   2.31248459e+00   1.01364419e+00  -5.26205623e+00\n",
      "   -1.97610323e+01   1.09759310e+00   9.63136586e+00   1.23790778e+00]\n",
      " [ -7.19747442e+00  -1.69813983e+00   9.49388639e-01   7.54224187e-01\n",
      "   -3.08746229e-01   2.56221329e+00   6.83344199e-01  -1.17094180e+00\n",
      "   -4.45325469e+00  -3.54217228e-01   5.29096034e+00   7.89979498e-01]\n",
      " [ -8.33865917e-01  -7.54103400e-02  -6.04359904e-05  -5.68710721e-01\n",
      "   -2.02850585e-02   7.69809141e-01   4.47681528e-01  -1.12333028e-01\n",
      "   -3.37066686e-01  -9.21379005e-02  -5.93550436e-01  -1.11902398e-02]]\n",
      "截距： [ 0.19076512  0.49054512  3.80045882  1.16138551 -0.10673243 -1.37066582\n",
      " -4.16575631]\n"
     ]
    },
    {
     "data": {
      "image/png": "[encoded data removed]",
      "text/plain": [
       "<matplotlib.figure.Figure at 0xdf55a90>"
      ]
     },
     "metadata": {},
     "output_type": "display_data"
    }
   ],
   "source": [
    "### 对数据进行降维处理后建模，查看效果：使用PCA讲维（有时候进行特征抽取和数据降维对于模型的算法是没有太好的改进的）\n",
    "from sklearn.preprocessing import MinMaxScaler\n",
    "from sklearn.decomposition import PCA\n",
    "from sklearn.feature_selection import SelectKBest\n",
    "from sklearn.feature_selection import chi2\n",
    "from sklearn.preprocessing import Normalizer\n",
    "\n",
    "## 数据分割\n",
    "X1_train,X1_test,Y1_train,Y1_test = train_test_split(X,Y,test_size=0.025,random_state=0)\n",
    "print \"训练数据条数:%d；数据特征个数:%d；测试数据条数:%d\" % (X1_train.shape[0], X1_train.shape[1], X1_test.shape[0])\n",
    "\n",
    "## 数据特征转换(归一化)\n",
    "## 数据格式化(归一化)\n",
    "ss2 = Normalizer()\n",
    "X1_train = ss2.fit_transform(X1_train) ## 训练模型及归一化数据\n",
    "\n",
    "## 特征选择\n",
    "#skb = SelectKBest(chi2, k=10) ## 只考虑3个维度\n",
    "#X1_train = skb.fit_transform(X1_train, Y1_train) ## 训练模型及特征选择\n",
    "\n",
    "## 降维\n",
    "#pca = PCA(n_components=5) ## 将样本数据维度降低成为5个维度\n",
    "#X1_train = pca.fit_transform(X1_train)\n",
    "#print \"贡献率:\", pca.explained_variance_\n",
    "\n",
    "\n",
    "## 模型构建\n",
    "lr2 = LogisticRegressionCV(fit_intercept=True, Cs=np.logspace(-5, 1, 100), \n",
    "                          multi_class='multinomial', penalty='l2', solver='lbfgs')\n",
    "lr2.fit(X1_train, Y1_train)\n",
    "\n",
    "## 模型效果输出\n",
    "r = lr2.score(X1_train, Y1_train)\n",
    "print \"R值：\", r\n",
    "print \"特征稀疏化比率：%.2f%%\" % (np.mean(lr2.coef_.ravel() == 0) * 100)\n",
    "print \"参数：\",lr2.coef_\n",
    "print \"截距：\",lr2.intercept_\n",
    "\n",
    "## 数据预测\n",
    "## a. 预测数据格式化(归一化)\n",
    "X1_test = ss2.transform(X1_test) ## 测试数据归一化\n",
    "#X1_test = skb.transform(X1_test) ## 测试数据特征选择\n",
    "#X1_test = pca.fit_transform(X1_test) ## 测试数据降维\n",
    "\n",
    "## b. 结果数据预测\n",
    "Y1_predict = lr2.predict(X1_test)\n",
    "\n",
    "## 图表展示\n",
    "## c. 图表展示\n",
    "x1_len = range(len(X1_test))\n",
    "plt.figure(figsize=(14,7), facecolor='w')\n",
    "plt.ylim(-1,11)\n",
    "plt.plot(x1_len, Y1_test, 'ro',markersize = 8, zorder=3, label=u'真实值')\n",
    "plt.plot(x1_len, Y1_predict, 'go', markersize = 12, zorder=2, label=u'预测值,$R^2$=%.3f' % lr2.score(X1_train, Y1_train))\n",
    "plt.legend(loc = 'upper left')\n",
    "plt.xlabel(u'数据编号', fontsize=18)\n",
    "plt.ylabel(u'葡萄酒质量', fontsize=18)\n",
    "plt.title(u'葡萄酒质量预测统计(降维处理)', fontsize=20)\n",
    "plt.show()"
   ]
  },
  {
   "cell_type": "code",
   "execution_count": 13,
   "metadata": {
    "collapsed": false
   },
   "outputs": [
    {
     "name": "stdout",
     "output_type": "stream",
     "text": [
      "原始数据AUC值: 0.895122134819\n",
      "降维数据AUC值: 0.871761576775\n"
     ]
    }
   ],
   "source": [
    "### 从auc角度看效果===>效果不错\n",
    "from sklearn.preprocessing import label_binarize\n",
    "from sklearn import metrics\n",
    "y_test_hot = label_binarize(Y_test,classes=(3,4,5,6,7,8,9)).ravel()\n",
    "\n",
    "### 计算原始数据模型\n",
    "## 得到预测的损失值\n",
    "lr_y_score = lr.decision_function(X_test).ravel()\n",
    "## 计算roc的值\n",
    "lr_fpr, lr_tpr, lr_threasholds = metrics.roc_curve(y_test_hot,lr_y_score)\n",
    "## 计算auc的值\n",
    "lr_auc = metrics.auc(lr_fpr, lr_tpr)\n",
    "\n",
    "## 计算降维后的数据模型\n",
    "lr2_y_score = lr2.decision_function(X1_test).ravel()\n",
    "## 计算roc的值\n",
    "lr2_fpr, lr2_tpr, lr2_threasholds = metrics.roc_curve(y_test_hot,lr2_y_score)\n",
    "## 计算auc的值\n",
    "lr2_auc = metrics.auc(lr2_fpr, lr2_tpr)\n",
    "\n",
    "print \"原始数据AUC值:\", lr_auc\n",
    "print \"降维数据AUC值:\", lr2_auc\n"
   ]
  },
  {
   "cell_type": "code",
   "execution_count": null,
   "metadata": {
    "collapsed": true
   },
   "outputs": [],
   "source": []
  }
 ],
 "metadata": {
  "anaconda-cloud": {},
  "kernelspec": {
   "display_name": "Python 2",
   "language": "python",
   "name": "python2"
  },
  "language_info": {
   "codemirror_mode": {
    "name": "ipython",
    "version": 2
   },
   "file_extension": ".py",
   "mimetype": "text/x-python",
   "name": "python",
   "nbconvert_exporter": "python",
   "pygments_lexer": "ipython2",
   "version": "2.7.13"
  }
 },
 "nbformat": 4,
 "nbformat_minor": 0
}
