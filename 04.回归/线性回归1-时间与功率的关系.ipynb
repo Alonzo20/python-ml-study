{
 "cells": [
  {
   "cell_type": "code",
   "execution_count": 31,
   "metadata": {
    "collapsed": true
   },
   "outputs": [],
   "source": [
    "import pandas as pd\n",
    "import numpy as np\n",
    "import time\n",
    "import sklearn\n",
    "import matplotlib as mpl\n",
    "import matplotlib.pyplot as plt\n",
    "from sklearn.linear_model import LinearRegression\n",
    "from sklearn.model_selection import train_test_split\n",
    "from sklearn.preprocessing import StandardScaler"
   ]
  },
  {
   "cell_type": "code",
   "execution_count": 32,
   "metadata": {
    "collapsed": true
   },
   "outputs": [],
   "source": [
    "path='datas\\household_power_consumption_1000.txt'\n",
    "names=['Date','Time','Global_active_power','Global_reactive_power','Voltage','Global_intensity','Sub_metering_1','Sub_metering_2','Sub_metering_3']"
   ]
  },
  {
   "cell_type": "code",
   "execution_count": 33,
   "metadata": {
    "collapsed": false
   },
   "outputs": [],
   "source": [
    "#读取数据\n",
    "df = pd.read_csv(path,sep=';')"
   ]
  },
  {
   "cell_type": "code",
   "execution_count": 34,
   "metadata": {
    "collapsed": false
   },
   "outputs": [
    {
     "data": {
      "text/html": [
       "<div>\n",
       "<table border=\"1\" class=\"dataframe\">\n",
       "  <thead>\n",
       "    <tr style=\"text-align: right;\">\n",
       "      <th></th>\n",
       "      <th>Date</th>\n",
       "      <th>Time</th>\n",
       "      <th>Global_active_power</th>\n",
       "      <th>Global_reactive_power</th>\n",
       "      <th>Voltage</th>\n",
       "      <th>Global_intensity</th>\n",
       "      <th>Sub_metering_1</th>\n",
       "      <th>Sub_metering_2</th>\n",
       "      <th>Sub_metering_3</th>\n",
       "    </tr>\n",
       "  </thead>\n",
       "  <tbody>\n",
       "    <tr>\n",
       "      <th>0</th>\n",
       "      <td>16/12/2006</td>\n",
       "      <td>17:24:00</td>\n",
       "      <td>4.216</td>\n",
       "      <td>0.418</td>\n",
       "      <td>234.84</td>\n",
       "      <td>18.4</td>\n",
       "      <td>0.0</td>\n",
       "      <td>1.0</td>\n",
       "      <td>17.0</td>\n",
       "    </tr>\n",
       "    <tr>\n",
       "      <th>1</th>\n",
       "      <td>16/12/2006</td>\n",
       "      <td>17:25:00</td>\n",
       "      <td>5.360</td>\n",
       "      <td>0.436</td>\n",
       "      <td>233.63</td>\n",
       "      <td>23.0</td>\n",
       "      <td>0.0</td>\n",
       "      <td>1.0</td>\n",
       "      <td>16.0</td>\n",
       "    </tr>\n",
       "    <tr>\n",
       "      <th>2</th>\n",
       "      <td>16/12/2006</td>\n",
       "      <td>17:26:00</td>\n",
       "      <td>5.374</td>\n",
       "      <td>0.498</td>\n",
       "      <td>233.29</td>\n",
       "      <td>23.0</td>\n",
       "      <td>0.0</td>\n",
       "      <td>2.0</td>\n",
       "      <td>17.0</td>\n",
       "    </tr>\n",
       "    <tr>\n",
       "      <th>3</th>\n",
       "      <td>16/12/2006</td>\n",
       "      <td>17:27:00</td>\n",
       "      <td>5.388</td>\n",
       "      <td>0.502</td>\n",
       "      <td>233.74</td>\n",
       "      <td>23.0</td>\n",
       "      <td>0.0</td>\n",
       "      <td>1.0</td>\n",
       "      <td>17.0</td>\n",
       "    </tr>\n",
       "    <tr>\n",
       "      <th>4</th>\n",
       "      <td>16/12/2006</td>\n",
       "      <td>17:28:00</td>\n",
       "      <td>3.666</td>\n",
       "      <td>0.528</td>\n",
       "      <td>235.68</td>\n",
       "      <td>15.8</td>\n",
       "      <td>0.0</td>\n",
       "      <td>1.0</td>\n",
       "      <td>17.0</td>\n",
       "    </tr>\n",
       "  </tbody>\n",
       "</table>\n",
       "</div>"
      ],
      "text/plain": [
       "         Date      Time  Global_active_power  Global_reactive_power  Voltage  \\\n",
       "0  16/12/2006  17:24:00                4.216                  0.418   234.84   \n",
       "1  16/12/2006  17:25:00                5.360                  0.436   233.63   \n",
       "2  16/12/2006  17:26:00                5.374                  0.498   233.29   \n",
       "3  16/12/2006  17:27:00                5.388                  0.502   233.74   \n",
       "4  16/12/2006  17:28:00                3.666                  0.528   235.68   \n",
       "\n",
       "   Global_intensity  Sub_metering_1  Sub_metering_2  Sub_metering_3  \n",
       "0              18.4             0.0             1.0            17.0  \n",
       "1              23.0             0.0             1.0            16.0  \n",
       "2              23.0             0.0             2.0            17.0  \n",
       "3              23.0             0.0             1.0            17.0  \n",
       "4              15.8             0.0             1.0            17.0  "
      ]
     },
     "execution_count": 34,
     "metadata": {},
     "output_type": "execute_result"
    }
   ],
   "source": [
    "#打印了前五行数据\n",
    "df.head()"
   ]
  },
  {
   "cell_type": "code",
   "execution_count": 35,
   "metadata": {
    "collapsed": false
   },
   "outputs": [
    {
     "name": "stdout",
     "output_type": "stream",
     "text": [
      "17/12/2006    604\n",
      "16/12/2006    396\n",
      "Name: Date, dtype: int64\n",
      "09:28:00    1\n",
      "05:29:00    1\n",
      "21:20:00    1\n",
      "08:27:00    1\n",
      "18:41:00    1\n",
      "06:33:00    1\n",
      "03:08:00    1\n",
      "07:49:00    1\n",
      "02:53:00    1\n",
      "08:36:00    1\n",
      "09:33:00    1\n",
      "21:11:00    1\n",
      "01:28:00    1\n",
      "06:44:00    1\n",
      "01:16:00    1\n",
      "03:17:00    1\n",
      "09:39:00    1\n",
      "08:17:00    1\n",
      "23:52:00    1\n",
      "09:09:00    1\n",
      "09:21:00    1\n",
      "20:35:00    1\n",
      "22:48:00    1\n",
      "23:50:00    1\n",
      "05:26:00    1\n",
      "20:15:00    1\n",
      "22:27:00    1\n",
      "18:46:00    1\n",
      "23:32:00    1\n",
      "21:13:00    1\n",
      "           ..\n",
      "22:45:00    1\n",
      "20:24:00    1\n",
      "19:16:00    1\n",
      "19:18:00    1\n",
      "05:57:00    1\n",
      "18:06:00    1\n",
      "06:41:00    1\n",
      "22:58:00    1\n",
      "18:11:00    1\n",
      "08:57:00    1\n",
      "21:16:00    1\n",
      "05:04:00    1\n",
      "18:49:00    1\n",
      "04:17:00    1\n",
      "23:19:00    1\n",
      "19:55:00    1\n",
      "21:35:00    1\n",
      "23:44:00    1\n",
      "04:52:00    1\n",
      "00:14:00    1\n",
      "18:04:00    1\n",
      "10:00:00    1\n",
      "02:56:00    1\n",
      "01:04:00    1\n",
      "19:06:00    1\n",
      "18:13:00    1\n",
      "22:42:00    1\n",
      "21:10:00    1\n",
      "08:21:00    1\n",
      "20:27:00    1\n",
      "Name: Time, dtype: int64\n",
      "2.426    10\n",
      "2.346     7\n",
      "2.336     6\n",
      "2.308     6\n",
      "2.352     6\n",
      "3.392     6\n",
      "2.424     5\n",
      "2.428     5\n",
      "3.378     5\n",
      "2.326     5\n",
      "2.306     5\n",
      "2.448     5\n",
      "2.444     5\n",
      "2.312     5\n",
      "2.412     5\n",
      "2.332     5\n",
      "2.324     5\n",
      "2.334     4\n",
      "2.388     4\n",
      "2.278     4\n",
      "3.418     4\n",
      "2.430     4\n",
      "2.358     4\n",
      "0.380     4\n",
      "2.406     4\n",
      "3.420     4\n",
      "2.342     4\n",
      "2.486     4\n",
      "2.362     4\n",
      "2.456     4\n",
      "         ..\n",
      "0.304     1\n",
      "0.852     1\n",
      "2.422     1\n",
      "2.928     1\n",
      "1.860     1\n",
      "4.524     1\n",
      "3.238     1\n",
      "4.866     1\n",
      "0.504     1\n",
      "1.832     1\n",
      "3.610     1\n",
      "2.140     1\n",
      "4.204     1\n",
      "1.926     1\n",
      "1.988     1\n",
      "2.712     1\n",
      "0.220     1\n",
      "5.254     1\n",
      "0.228     1\n",
      "4.460     1\n",
      "3.402     1\n",
      "3.248     1\n",
      "6.926     1\n",
      "2.664     1\n",
      "3.516     1\n",
      "2.930     1\n",
      "0.538     1\n",
      "0.612     1\n",
      "2.434     1\n",
      "0.936     1\n",
      "Name: Global_active_power, dtype: int64\n",
      "0.000    256\n",
      "0.054     31\n",
      "0.050     25\n",
      "0.060     24\n",
      "0.048     22\n",
      "0.052     21\n",
      "0.046     21\n",
      "0.078     21\n",
      "0.056     20\n",
      "0.076     20\n",
      "0.090     18\n",
      "0.072     17\n",
      "0.088     17\n",
      "0.070     17\n",
      "0.084     15\n",
      "0.082     14\n",
      "0.098     14\n",
      "0.080     11\n",
      "0.074     11\n",
      "0.064     10\n",
      "0.062     10\n",
      "0.100     10\n",
      "0.058     10\n",
      "0.096      9\n",
      "0.086      9\n",
      "0.066      9\n",
      "0.108      9\n",
      "0.170      9\n",
      "0.068      9\n",
      "0.152      8\n",
      "        ... \n",
      "0.522      1\n",
      "0.338      1\n",
      "0.418      1\n",
      "0.222      1\n",
      "0.470      1\n",
      "0.368      1\n",
      "0.280      1\n",
      "0.250      1\n",
      "0.228      1\n",
      "0.298      1\n",
      "0.422      1\n",
      "0.478      1\n",
      "0.288      1\n",
      "0.196      1\n",
      "0.300      1\n",
      "0.502      1\n",
      "0.242      1\n",
      "0.528      1\n",
      "0.436      1\n",
      "0.254      1\n",
      "0.302      1\n",
      "0.270      1\n",
      "0.286      1\n",
      "0.218      1\n",
      "0.296      1\n",
      "0.310      1\n",
      "0.216      1\n",
      "0.226      1\n",
      "0.272      1\n",
      "0.278      1\n",
      "Name: Global_reactive_power, dtype: int64\n",
      "238.59    5\n",
      "241.27    5\n",
      "239.84    4\n",
      "239.79    4\n",
      "237.44    4\n",
      "241.86    4\n",
      "240.11    4\n",
      "244.83    4\n",
      "240.97    4\n",
      "239.37    4\n",
      "242.14    4\n",
      "243.73    4\n",
      "238.48    3\n",
      "234.60    3\n",
      "245.05    3\n",
      "244.35    3\n",
      "240.69    3\n",
      "245.69    3\n",
      "239.45    3\n",
      "242.06    3\n",
      "244.90    3\n",
      "242.49    3\n",
      "245.71    3\n",
      "243.70    3\n",
      "233.77    3\n",
      "235.84    3\n",
      "240.70    3\n",
      "240.95    3\n",
      "244.02    3\n",
      "239.03    3\n",
      "         ..\n",
      "234.26    1\n",
      "247.11    1\n",
      "233.93    1\n",
      "242.72    1\n",
      "241.37    1\n",
      "246.16    1\n",
      "239.23    1\n",
      "234.45    1\n",
      "245.84    1\n",
      "238.52    1\n",
      "233.30    1\n",
      "241.41    1\n",
      "238.84    1\n",
      "238.09    1\n",
      "246.64    1\n",
      "235.01    1\n",
      "238.27    1\n",
      "240.25    1\n",
      "243.01    1\n",
      "237.47    1\n",
      "238.67    1\n",
      "240.62    1\n",
      "242.25    1\n",
      "239.75    1\n",
      "248.48    1\n",
      "235.25    1\n",
      "236.66    1\n",
      "243.96    1\n",
      "245.53    1\n",
      "243.31    1\n",
      "Name: Voltage, dtype: int64\n",
      "9.6     83\n",
      "9.8     67\n",
      "10.0    64\n",
      "14.4    49\n",
      "9.4     45\n",
      "14.0    37\n",
      "13.8    36\n",
      "14.2    33\n",
      "14.6    31\n",
      "10.4    26\n",
      "10.2    24\n",
      "1.4     20\n",
      "1.2     19\n",
      "1.0     15\n",
      "1.8     14\n",
      "13.6    13\n",
      "12.4    13\n",
      "9.2     13\n",
      "2.6     13\n",
      "8.4     13\n",
      "9.0     12\n",
      "1.6     10\n",
      "10.8     9\n",
      "5.4      9\n",
      "11.4     9\n",
      "14.8     9\n",
      "3.2      8\n",
      "2.4      8\n",
      "7.8      8\n",
      "4.8      8\n",
      "        ..\n",
      "26.2     2\n",
      "6.4      2\n",
      "25.4     2\n",
      "6.2      2\n",
      "20.2     1\n",
      "17.0     1\n",
      "33.2     1\n",
      "21.4     1\n",
      "21.0     1\n",
      "29.0     1\n",
      "27.0     1\n",
      "26.4     1\n",
      "2.2      1\n",
      "29.4     1\n",
      "13.0     1\n",
      "22.6     1\n",
      "21.8     1\n",
      "20.0     1\n",
      "17.4     1\n",
      "12.2     1\n",
      "25.8     1\n",
      "16.8     1\n",
      "12.8     1\n",
      "28.2     1\n",
      "16.0     1\n",
      "27.8     1\n",
      "3.4      1\n",
      "30.6     1\n",
      "30.0     1\n",
      "23.2     1\n",
      "Name: Global_intensity, dtype: int64\n",
      "0.0    1000\n",
      "Name: Sub_metering_1, dtype: int64\n",
      "0.0     589\n",
      "1.0     223\n",
      "2.0      84\n",
      "36.0     17\n",
      "37.0     15\n",
      "5.0      15\n",
      "4.0       8\n",
      "3.0       7\n",
      "28.0      4\n",
      "27.0      4\n",
      "35.0      4\n",
      "38.0      4\n",
      "26.0      4\n",
      "16.0      3\n",
      "24.0      2\n",
      "23.0      2\n",
      "22.0      2\n",
      "25.0      2\n",
      "9.0       1\n",
      "20.0      1\n",
      "33.0      1\n",
      "12.0      1\n",
      "17.0      1\n",
      "21.0      1\n",
      "18.0      1\n",
      "7.0       1\n",
      "30.0      1\n",
      "31.0      1\n",
      "13.0      1\n",
      "Name: Sub_metering_2, dtype: int64\n",
      "0.0     661\n",
      "17.0    223\n",
      "18.0     55\n",
      "16.0     50\n",
      "19.0      8\n",
      "9.0       2\n",
      "5.0       1\n",
      "Name: Sub_metering_3, dtype: int64\n"
     ]
    }
   ],
   "source": [
    "#看所有的变量值\n",
    "for i in df.columns:\n",
    "    print df[i].value_counts()"
   ]
  },
  {
   "cell_type": "code",
   "execution_count": 36,
   "metadata": {
    "collapsed": true
   },
   "outputs": [],
   "source": [
    "#空值的处理\n",
    "new_df = df.replace('?',np.nan)\n",
    "datas = new_df.dropna(how='any')"
   ]
  },
  {
   "cell_type": "code",
   "execution_count": 37,
   "metadata": {
    "collapsed": false
   },
   "outputs": [],
   "source": [
    "#创建一个时间字符串格式化\n",
    "def date_format(dt):\n",
    "    import time\n",
    "    t = time.strptime(' '.join(dt),'%d/%m/%Y %H:%M:%S')\n",
    "    return(t.tm_year,t.tm_mon,t.tm_mday,t.tm_hour,t.tm_min,t.tm_sec)"
   ]
  },
  {
   "cell_type": "code",
   "execution_count": 38,
   "metadata": {
    "collapsed": false
   },
   "outputs": [],
   "source": [
    "#获取X，Y变量，讲时间转换为数值型的连续变量\n",
    "X = datas[names[0:2]]\n",
    "X = X.apply(lambda x :pd.Series(date_format(x)),axis=1)\n",
    "Y = datas[names[2]]"
   ]
  },
  {
   "cell_type": "code",
   "execution_count": 39,
   "metadata": {
    "collapsed": false
   },
   "outputs": [
    {
     "name": "stdout",
     "output_type": "stream",
     "text": [
      "      0   1   2   3   4  5\n",
      "0  2006  12  16  17  24  0\n",
      "1  2006  12  16  17  25  0\n",
      "2  2006  12  16  17  26  0\n",
      "3  2006  12  16  17  27  0\n",
      "4  2006  12  16  17  28  0\n",
      "0    4.216\n",
      "1    5.360\n",
      "2    5.374\n",
      "3    5.388\n",
      "4    3.666\n",
      "Name: Global_active_power, dtype: float64\n"
     ]
    }
   ],
   "source": [
    "print X.head(5)\n",
    "print Y.head(5)"
   ]
  },
  {
   "cell_type": "code",
   "execution_count": 40,
   "metadata": {
    "collapsed": false
   },
   "outputs": [],
   "source": [
    "#对数据集进行训练集、测试集划分\n",
    "X_train,X_test,Y_train,Y_test=train_test_split(X,Y,test_size=0.2,random_state=0)"
   ]
  },
  {
   "cell_type": "code",
   "execution_count": 42,
   "metadata": {
    "collapsed": false
   },
   "outputs": [],
   "source": [
    "#数据标准化\n",
    "ss=StandardScaler()\n",
    "X_train=ss.fit_transform(X_train)\n",
    "X_test = ss.transform(X_test)"
   ]
  },
  {
   "cell_type": "code",
   "execution_count": 44,
   "metadata": {
    "collapsed": false
   },
   "outputs": [
    {
     "data": {
      "text/plain": [
       "LinearRegression(copy_X=True, fit_intercept=True, n_jobs=1, normalize=False)"
      ]
     },
     "execution_count": 44,
     "metadata": {},
     "output_type": "execute_result"
    }
   ],
   "source": [
    "#训练模型\n",
    "lr = LinearRegression()\n",
    "lr.fit(X_train,Y_train)"
   ]
  },
  {
   "cell_type": "code",
   "execution_count": 45,
   "metadata": {
    "collapsed": false
   },
   "outputs": [
    {
     "name": "stdout",
     "output_type": "stream",
     "text": [
      "准确率： 0.244093118059\n"
     ]
    }
   ],
   "source": [
    "#模型检验\n",
    "print \"准确率：\",lr.score(X_train,Y_train)"
   ]
  },
  {
   "cell_type": "code",
   "execution_count": 46,
   "metadata": {
    "collapsed": true
   },
   "outputs": [],
   "source": [
    "#预测y值\n",
    "y_predict = lr.predict(X_test)"
   ]
  },
  {
   "cell_type": "code",
   "execution_count": 47,
   "metadata": {
    "collapsed": false
   },
   "outputs": [
    {
     "data": {
      "text/plain": [
       "LinearRegression(copy_X=True, fit_intercept=True, n_jobs=1, normalize=False)"
      ]
     },
     "execution_count": 47,
     "metadata": {},
     "output_type": "execute_result"
    }
   ],
   "source": [
    "from sklearn.externals import joblib\n",
    "#模型保存\n",
    "joblib.dump(ss,\"data_ss.model\")\n",
    "joblib.dump(lr,\"data_lr.model\")\n",
    "#加载模型\n",
    "joblib.load(\"data_ss.model\")\n",
    "joblib.load(\"data_lr.model\")"
   ]
  },
  {
   "cell_type": "code",
   "execution_count": 52,
   "metadata": {
    "collapsed": true
   },
   "outputs": [],
   "source": [
    "#设置字符集，防止中文乱码\n",
    "mpl.rcParams['font.sans-serif']=[u'simHei']\n",
    "mpl.rcParams['axes.unicode_minus']=False"
   ]
  },
  {
   "cell_type": "code",
   "execution_count": 53,
   "metadata": {
    "collapsed": false
   },
   "outputs": [
    {
     "data": {
      "image/png": "[encoded data removed]",
      "text/plain": [
       "<matplotlib.figure.Figure at 0xb8f6748>"
      ]
     },
     "metadata": {},
     "output_type": "display_data"
    }
   ],
   "source": [
    "#预测值与实际值画(图比较\n",
    "t = np.arange(len(X_test))\n",
    "plt.figure(facecolor='w')\n",
    "plt.plot(t,Y_test,'r-',linewidth=2,label=u'真实值')\n",
    "plt.plot(t,y_predict,'g-',linewidth=2,label=u'预测值')   \n",
    "plt.legend(loc='lower right')\n",
    "plt.title(u'线性回归预测时间与功率之间的关系',fontsize=20)\n",
    "plt.grid(b=True)\n",
    "plt.show()"
   ]
  },
  {
   "cell_type": "code",
   "execution_count": null,
   "metadata": {
    "collapsed": true
   },
   "outputs": [],
   "source": []
  }
 ],
 "metadata": {
  "kernelspec": {
   "display_name": "Python 2",
   "language": "python",
   "name": "python2"
  },
  "language_info": {
   "codemirror_mode": {
    "name": "ipython",
    "version": 2
   },
   "file_extension": ".py",
   "mimetype": "text/x-python",
   "name": "python",
   "nbconvert_exporter": "python",
   "pygments_lexer": "ipython2",
   "version": "2.7.13"
  }
 },
 "nbformat": 4,
 "nbformat_minor": 2
}
